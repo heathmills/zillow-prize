{
 "cells": [
  {
   "cell_type": "markdown",
   "metadata": {},
   "source": [
    "# Zillow Challenge: Final Model\n",
    "### Heath Mills"
   ]
  },
  {
   "cell_type": "markdown",
   "metadata": {},
   "source": [
    "## Table of Contents\n",
    "\n",
    "1. [Load Data](#Load-Data)\n",
    "2. [Data Cleaning & Preparation](#Data Cleaning-&-Preparation-from-Exploratory-Data-Analysis)\n",
    "3. [Reduce Dimensionality](#Reduce-Dimensionality)\n",
    "4. [Pickle Data](#Pickle-Data)"
   ]
  },
  {
   "cell_type": "markdown",
   "metadata": {},
   "source": [
    "## Load Data"
   ]
  },
  {
   "cell_type": "code",
   "execution_count": 1,
   "metadata": {},
   "outputs": [
    {
     "name": "stderr",
     "output_type": "stream",
     "text": [
      "/anaconda/lib/python2.7/site-packages/sklearn/cross_validation.py:44: DeprecationWarning: This module was deprecated in version 0.18 in favor of the model_selection module into which all the refactored classes and functions are moved. Also note that the interface of the new CV iterators are different from that of this module. This module will be removed in 0.20.\n",
      "  \"This module will be removed in 0.20.\", DeprecationWarning)\n",
      "Using TensorFlow backend.\n",
      "/anaconda/lib/python2.7/site-packages/ggplot/utils.py:81: FutureWarning: pandas.tslib is deprecated and will be removed in a future version.\n",
      "You can access Timestamp as pandas.Timestamp\n",
      "  pd.tslib.Timestamp,\n",
      "/anaconda/lib/python2.7/site-packages/ggplot/stats/smoothers.py:4: FutureWarning: The pandas.lib module is deprecated and will be removed in a future version. These are private functions and can be accessed from pandas._libs.lib instead\n",
      "  from pandas.lib import Timestamp\n",
      "/anaconda/lib/python2.7/site-packages/statsmodels/compat/pandas.py:56: FutureWarning: The pandas.core.datetools module is deprecated and will be removed in a future version. Please use the pandas.tseries module instead.\n",
      "  from pandas.core import datetools\n"
     ]
    }
   ],
   "source": [
    "#Import Libraries/Packages For Use\n",
    "import numpy as np \n",
    "import pandas as pd\n",
    "import datetime as dt \n",
    "import os\n",
    "import xgboost as xgb\n",
    "from sklearn.model_selection import StratifiedKFold, GridSearchCV\n",
    "from sklearn.model_selection import cross_val_score\n",
    "from sklearn.model_selection import cross_val_predict\n",
    "from sklearn.preprocessing import StandardScaler\n",
    "from sklearn.pipeline import Pipeline\n",
    "from sklearn.model_selection import train_test_split\n",
    "from sklearn.decomposition import PCA\n",
    "from keras.models import Sequential\n",
    "from keras.layers import Activation, Dropout, Flatten, Dense\n",
    "import lightgbm as lgb\n",
    "import seaborn as sns\n",
    "import matplotlib.pyplot as plt\n",
    "import ggplot as ggplot\n",
    "from ggplot import * \n",
    "color = sns.color_palette()\n",
    "\n",
    "plt.style.use('fivethirtyeight')\n",
    "%matplotlib inline"
   ]
  },
  {
   "cell_type": "markdown",
   "metadata": {},
   "source": [
    "Before I submit my model to Kaggle for score, I need to include the data cleaning steps from my Exploratory Data Analysis here as well. For now, I am just loading my data from the pickled files."
   ]
  },
  {
   "cell_type": "code",
   "execution_count": 2,
   "metadata": {
    "collapsed": true
   },
   "outputs": [],
   "source": [
    "def load_data():\n",
    "    # Pickled versions of Data Sets\n",
    "    train2016_p = './pickled/train2016_p'\n",
    "    train2017_p = './pickled/train2017_p'\n",
    "    prop2016_p = './pickled/prop2016_p'\n",
    "    prop2017_p = './pickled/prop2017_p'\n",
    "    sample_p = './pickled/sample_p'\n",
    "\n",
    "    # If pickled train2016 exists, load it; else load train_2016_v2.csv to df and pickle it\n",
    "    if os.path.exists(train2016_p):\n",
    "        train2016 = pd.read_pickle(train2016_p)\n",
    "    else:\n",
    "        # load data to df\n",
    "        train2016 = pd.read_csv('./input/train_2016_v2.csv',\n",
    "                            parse_dates=['transactiondate'])\n",
    "        # create pickled file for storage\n",
    "        train2016.to_pickle(train2016_p)\n",
    "\n",
    "    # If pickled train2017 exists, load it; else load train_2017.csv to df and pickle it\n",
    "    if os.path.exists(train2017_p):\n",
    "        train2017 = pd.read_pickle(train2017_p)\n",
    "    else:\n",
    "        # load data to df\n",
    "        train2017 = pd.read_csv('./input/train_2017.csv',\n",
    "                            parse_dates=['transactiondate'])\n",
    "        # create pickled file for storage\n",
    "        train2017.to_pickle(train2017_p)\n",
    "\n",
    "    # If pickled prop2016_p load it; else load properties_2016.csv to df and pickle it\n",
    "    if os.path.exists(prop2016_p):\n",
    "        prop2016 = pd.read_pickle(prop2016_p)\n",
    "    else:\n",
    "        prop2016 = pd.read_csv('./input/properties_2016.csv')\n",
    "        prop2016.to_pickle(prop2016_p)\n",
    "\n",
    "    # If pickled prop2017_p load it; else load properties_2017.csv to df and pickle it\n",
    "    if os.path.exists(prop2017_p):\n",
    "        prop2017 = pd.read_pickle(prop2017_p)\n",
    "    else:\n",
    "        prop2017 = pd.read_csv('./input/properties_2017.csv')\n",
    "        prop2017.to_pickle(prop2017_p)\n",
    "\n",
    "    # If pickled sample exists, load it; else load sample_submission.csv to df and pickle it\n",
    "    if os.path.exists(sample_p):\n",
    "        sample = pd.read_pickle(sample_p)\n",
    "    else:\n",
    "        sample = pd.read_csv('./input/sample_submission.csv')\n",
    "        sample.to_pickle(sample_p)\n",
    "    return prop2016, prop2017, train2016, train2017, sample"
   ]
  },
  {
   "cell_type": "code",
   "execution_count": 3,
   "metadata": {
    "collapsed": true
   },
   "outputs": [],
   "source": [
    "#Load Datasets\n",
    "prop2016, prop2017, train2016, train2017, sample = load_data()"
   ]
  },
  {
   "cell_type": "code",
   "execution_count": 4,
   "metadata": {
    "collapsed": true
   },
   "outputs": [],
   "source": [
    "# Renaming the headers\n",
    "\n",
    "# Read the feature_names file to a dataframe\n",
    "col_mapping = pd.read_csv('./input/feature_names.txt', sep =\"=\", header=None).applymap(str.strip)\n",
    "# Convert df to dict and rename using dict\n",
    "mapping_dict = dict(zip(col_mapping[1], col_mapping[0]))\n",
    "prop2016.rename(columns = mapping_dict, inplace=True)\n",
    "prop2017.rename(columns = mapping_dict, inplace=True)\n",
    "\n",
    "# Since we only need to rename one column in train2016 and train2017, this can be done easily\n",
    "train2016.rename(columns={'parcelid':'ParcelId'}, inplace=True)\n",
    "train2017.rename(columns={'parcelid':'ParcelId'}, inplace=True)"
   ]
  },
  {
   "cell_type": "markdown",
   "metadata": {},
   "source": [
    "## Data Cleaning & Preparation from Exploratory Data Analysis"
   ]
  },
  {
   "cell_type": "markdown",
   "metadata": {},
   "source": [
    "The data cleaning done in the steps below is explained in more detail in the Exploratory Data Analysis notebook. It is run here as well for Kaggle competition submission purposes."
   ]
  },
  {
   "cell_type": "code",
   "execution_count": 5,
   "metadata": {
    "collapsed": true
   },
   "outputs": [],
   "source": [
    "# Replace True with 1 in flag_hot_tub_spa & flag_fireplace\n",
    "prop2016['flag_hot_tub_spa'] = prop2016['flag_hot_tub_spa'].replace(True,1)\n",
    "prop2017['flag_hot_tub_spa'] = prop2017['flag_hot_tub_spa'].replace(True,1)\n",
    "prop2016['flag_fireplace'] = prop2016['flag_fireplace'].replace(True,1)\n",
    "prop2017['flag_fireplace'] = prop2017['flag_fireplace'].replace(True,1)"
   ]
  },
  {
   "cell_type": "code",
   "execution_count": 6,
   "metadata": {
    "collapsed": true
   },
   "outputs": [],
   "source": [
    "# Replace 'Y' with 1 in flag_hot_tub_spa & flag_fireplace\n",
    "prop2016['flag_tax_owed_2015'] = prop2016['flag_tax_owed_2015'].replace('Y',1)\n",
    "prop2017['flag_tax_owed_2015'] = prop2017['flag_tax_owed_2015'].replace('Y',1)"
   ]
  },
  {
   "cell_type": "code",
   "execution_count": 7,
   "metadata": {
    "collapsed": true
   },
   "outputs": [],
   "source": [
    "### Combine flag_fireplace & count_fireplace\n",
    "# Fill any NAN values of count_fireplace with flag_fireplace in prop2016 and prop2017\n",
    "prop2016.count_fireplace.combine_first(prop2016.flag_fireplace)\n",
    "prop2017.count_fireplace.combine_first(prop2017.flag_fireplace)\n",
    "\n",
    "# Drop flag_fireplace\n",
    "prop2016 = prop2016.drop('flag_fireplace', axis=1)\n",
    "prop2017 = prop2017.drop('flag_fireplace', axis=1)\n",
    "\n",
    "# Fill NaN values for count_fireplace with 0 (i.e. no fireplaces)\n",
    "prop2016['count_fireplace']=prop2016['count_fireplace'].fillna(0)\n",
    "prop2017['count_fireplace']=prop2017['count_fireplace'].fillna(0)"
   ]
  },
  {
   "cell_type": "code",
   "execution_count": 8,
   "metadata": {
    "collapsed": true
   },
   "outputs": [],
   "source": [
    "### Combine sqft_first_floor & sqft_first_floor_finished\n",
    "# Fill any NAN values of sqft_first_floor with sqft_first_floor_finished in prop2016 and prop2017\n",
    "prop2016.sqft_first_floor.combine_first(prop2016.sqft_first_floor_finished)\n",
    "prop2017.sqft_first_floor.combine_first(prop2017.sqft_first_floor_finished)\n",
    "\n",
    "# Drop sqft_first_floor_finished\n",
    "prop2016 = prop2016.drop('sqft_first_floor_finished', axis=1)\n",
    "prop2017 = prop2017.drop('sqft_first_floor_finished', axis=1)"
   ]
  },
  {
   "cell_type": "code",
   "execution_count": 9,
   "metadata": {
    "collapsed": true
   },
   "outputs": [],
   "source": [
    "### Combine flag_hot_tub_spa, flag_hot_tub_spa2, flag_pool+hot_tub_spa, flag_pool, count_pools\n",
    "# Fill any NAN values of flag_pool with count_pools in prop2016 and prop2017\n",
    "prop2016.flag_pool.combine_first(prop2016.count_pools)\n",
    "prop2017.flag_pool.combine_first(prop2017.count_pools)\n",
    "\n",
    "# Drop count_pools\n",
    "prop2016 = prop2016.drop('count_pools', axis=1)\n",
    "prop2017 = prop2017.drop('count_pools', axis=1)\n",
    "\n",
    "# Fill any NAN values of flag_hot_tub_spa with flag_hot_tub_spa2 in prop2016 and prop2017\n",
    "prop2016.flag_hot_tub_spa.combine_first(prop2016.flag_hot_tub_spa2)\n",
    "prop2017.flag_hot_tub_spa.combine_first(prop2017.flag_hot_tub_spa2)\n",
    "\n",
    "# Drop count_pools\n",
    "prop2016 = prop2016.drop('flag_hot_tub_spa2', axis=1)\n",
    "prop2017 = prop2017.drop('flag_hot_tub_spa2', axis=1)\n",
    "\n",
    "# Fill any NAN values of flag_hot_tub_spa with flag_pool+hot_tub_spa in prop2016 and prop2017\n",
    "prop2016.flag_hot_tub_spa.combine_first(prop2016.flag_pool_hot_tub_spa)\n",
    "prop2017.flag_hot_tub_spa.combine_first(prop2017.flag_pool_hot_tub_spa)\n",
    "\n",
    "# Fill any NAN values of flag_pool with count_pools in prop2016 and prop2017\n",
    "prop2016.flag_pool.combine_first(prop2016.flag_pool_hot_tub_spa)\n",
    "prop2017.flag_pool.combine_first(prop2017.flag_pool_hot_tub_spa)\n",
    "\n",
    "# Drop count_pools\n",
    "prop2016 = prop2016.drop('flag_pool_hot_tub_spa', axis=1)\n",
    "prop2017 = prop2017.drop('flag_pool_hot_tub_spa', axis=1)\n",
    "\n",
    "# Fill NaN values for flag_pool with 0 (i.e. no fireplaces)\n",
    "prop2016['flag_pool']=prop2016['flag_pool'].fillna(0)\n",
    "prop2017['flag_pool']=prop2017['flag_pool'].fillna(0)\n",
    "\n",
    "# Fill NaN values for flag_hot_tub_spa with 0 (i.e. no fireplaces)\n",
    "prop2016['flag_hot_tub_spa']=prop2016['flag_hot_tub_spa'].fillna(0)\n",
    "prop2017['flag_hot_tub_spa']=prop2017['flag_hot_tub_spa'].fillna(0)"
   ]
  },
  {
   "cell_type": "code",
   "execution_count": 10,
   "metadata": {
    "collapsed": true
   },
   "outputs": [],
   "source": [
    "### Combine date_tax_owed & flag_tax_owed_2015\n",
    "# Replace 1 with 2015 in flag_tax_owed_2015\n",
    "prop2016['flag_hot_tub_spa'] = prop2016['flag_hot_tub_spa'].replace(1,2015)\n",
    "prop2017['flag_hot_tub_spa'] = prop2017['flag_hot_tub_spa'].replace(1,2015)\n",
    "\n",
    "# Fill any NAN values of date_tax_owed with flag_tax_owed_2015 in prop2016 and prop2017\n",
    "prop2016.date_tax_owed.combine_first(prop2016.flag_tax_owed_2015)\n",
    "prop2017.date_tax_owed.combine_first(prop2017.flag_tax_owed_2015)\n",
    "\n",
    "# Drop flag_tax_owed_2015\n",
    "prop2016 = prop2016.drop('flag_tax_owed_2015', axis=1)\n",
    "prop2017 = prop2017.drop('flag_tax_owed_2015', axis=1)"
   ]
  },
  {
   "cell_type": "code",
   "execution_count": 11,
   "metadata": {
    "collapsed": true
   },
   "outputs": [],
   "source": [
    "### Combine id_censustract_and_blockid_raw, id_censustract_and_blockid, loc_county_id, loc_county_fips\n",
    "# Replace values in loc_county_fips with 1, 2 or 3\n",
    "fips_map = {6037: 0, 6059: 1, 6111: 2}\n",
    "prop2016['loc_county_fips'] = prop2016['loc_county_fips'].map(fips_map)\n",
    "prop2017['loc_county_fips'] = prop2017['loc_county_fips'].map(fips_map)\n",
    "\n",
    "# Replace values in loc_county_id with 1, 2 or 3\n",
    "county_map = {3101: 0, 1286: 1, 2061: 2}\n",
    "prop2016['loc_county_id'] = prop2016['loc_county_id'].map(county_map)\n",
    "prop2017['loc_county_id'] = prop2017['loc_county_id'].map(county_map)\n",
    "\n",
    "# Fill any NAN values of loc_county_id with loc_county_fips in prop2016 and prop2017\n",
    "prop2016.loc_county_id.combine_first(prop2016.loc_county_fips)\n",
    "prop2017.loc_county_id.combine_first(prop2017.loc_county_fips)\n",
    "\n",
    "prop2016 = prop2016.drop(['id_censustract_and_blockid','id_censustract_and_blockid_raw', 'loc_county_fips'],axis=1)\n",
    "prop2017 = prop2017.drop(['id_censustract_and_blockid','id_censustract_and_blockid_raw', 'loc_county_fips'],axis=1)"
   ]
  },
  {
   "cell_type": "code",
   "execution_count": 12,
   "metadata": {
    "collapsed": true
   },
   "outputs": [],
   "source": [
    "### Combine Data\n",
    "merged2016 = train2016.merge(prop2016, how='left', on='ParcelId')\n",
    "merged2017 = train2017.merge(prop2017, how='left', on='ParcelId')"
   ]
  },
  {
   "cell_type": "code",
   "execution_count": 13,
   "metadata": {
    "collapsed": true
   },
   "outputs": [],
   "source": [
    "# Create a month variable from the transactiondate field\n",
    "merged2016['transaction_month'] = merged2016['transactiondate'].dt.month\n",
    "merged2017['transaction_month'] = merged2017['transactiondate'].dt.month"
   ]
  },
  {
   "cell_type": "code",
   "execution_count": 14,
   "metadata": {
    "collapsed": true
   },
   "outputs": [],
   "source": [
    "# Using the information from the data dictionary, I know that there is already a value for none in type_air_cond\n",
    "merged2016['type_air_cond'] = merged2016['type_air_cond'].fillna(5)\n",
    "merged2017['type_air_cond'] = merged2017['type_air_cond'].fillna(5)\n",
    "\n",
    "# Using the data dictionary, I've decided to create another value for type_arch_style: 19 = Other\n",
    "merged2016['type_arch_style'] = merged2016['type_arch_style'].fillna(19)\n",
    "merged2017['type_arch_style'] = merged2017['type_arch_style'].fillna(19)\n",
    "\n",
    "# Basement square footage can be filled with 0\n",
    "merged2016['sqft_basement'] = merged2016['sqft_basement'].fillna(0)\n",
    "merged2017['sqft_basement'] = merged2017['sqft_basement'].fillna(0)\n",
    "merged2016['count_garage'] = merged2016['count_garage'].fillna(0)\n",
    "merged2017['count_garage'] = merged2017['count_garage'].fillna(0)\n",
    "\n",
    "merged2016['sqft_garage'] = merged2016['sqft_garage'].fillna(0)\n",
    "merged2017['sqft_garage'] = merged2017['sqft_garage'].fillna(0)\n",
    "merged2016['loc_zipcode'] = merged2016['loc_zipcode'].fillna(0)\n",
    "merged2017['loc_zipcode'] = merged2017['loc_zipcode'].fillna(0)\n",
    "merged2016['loc_neighborhood_id'] = merged2016['loc_neighborhood_id'].fillna(0)\n",
    "merged2017['loc_neighborhood_id'] = merged2017['loc_neighborhood_id'].fillna(0)\n",
    "merged2016['loc_city_id'] = merged2016['loc_city_id'].fillna(0)\n",
    "merged2017['loc_city_id'] = merged2017['loc_city_id'].fillna(0)\n",
    "merged2016['loc_county_id'] = merged2016['loc_county_id'].fillna(0)\n",
    "merged2017['loc_county_id'] = merged2017['loc_county_id'].fillna(0)\n",
    "merged2016['type_building_material'] = merged2016['type_building_material'].fillna(0)\n",
    "merged2017['type_building_material'] = merged2017['type_building_material'].fillna(0)\n",
    "merged2016['date_tax_owed'] = merged2016['date_tax_owed'].fillna(0)\n",
    "merged2017['date_tax_owed'] = merged2017['date_tax_owed'].fillna(0)\n",
    "merged2016['sqft_total_all'] = merged2016['sqft_total_all'].fillna(0)\n",
    "merged2017['sqft_total_all'] = merged2017['sqft_total_all'].fillna(0)\n",
    "merged2016['sqft_total_finished'] = merged2016['sqft_total_finished'].fillna(0)\n",
    "merged2017['sqft_total_finished'] = merged2017['sqft_total_finished'].fillna(0)\n",
    "merged2016['loc_longitude'] = merged2016['loc_longitude'].fillna(0)\n",
    "merged2017['loc_longitude'] = merged2017['loc_longitude'].fillna(0)\n",
    "merged2016['loc_latitude'] = merged2016['loc_latitude'].fillna(0)\n",
    "merged2017['loc_latitude'] = merged2017['loc_latitude'].fillna(0)\n",
    "\n",
    "# Using the information from the data dictionary, I know that there is already a value for none in type_air_cond\n",
    "merged2016['type_heating'] = merged2016['type_heating'].fillna(13)\n",
    "merged2017['type_heating'] = merged2017['type_heating'].fillna(13)\n",
    "\n",
    "# Assume count_stories is 1\n",
    "merged2016['count_home_stories'] = merged2016['count_home_stories'].fillna(1)\n",
    "merged2017['count_home_stories'] = merged2017['count_home_stories'].fillna(1)\n",
    "\n",
    "# Bathroom counts, bedroom counts and many sqft measures are being set to the median value\n",
    "merged2016['count_total_bath'] = merged2016['count_total_bath'].fillna(merged2016['count_total_bath'].median())\n",
    "merged2017['count_total_bath'] = merged2017['count_total_bath'].fillna(merged2017['count_total_bath'].median())\n",
    "merged2016['count_total_bed'] = merged2016['count_total_bed'].fillna(merged2016['count_total_bed'].median())\n",
    "merged2017['count_total_bed'] = merged2017['count_total_bed'].fillna(merged2017['count_total_bed'].median())\n",
    "merged2016['count_total_bath2'] = merged2016['count_total_bath2'].fillna(merged2016['count_total_bath2'].median())\n",
    "merged2017['count_total_bath2'] = merged2017['count_total_bath2'].fillna(merged2017['count_total_bath2'].median())\n",
    "merged2016['type_building_quality'] = merged2016['type_building_quality'].fillna(merged2016['type_building_quality'].median())\n",
    "merged2017['type_building_quality'] = merged2017['type_building_quality'].fillna(merged2017['type_building_quality'].median())\n",
    "merged2016['sqft_first_floor'] = merged2016['sqft_first_floor'].fillna(merged2016['sqft_first_floor'].median())\n",
    "merged2017['sqft_first_floor'] = merged2017['sqft_first_floor'].fillna(merged2017['sqft_first_floor'].median())\n",
    "merged2016['sqft_total_area'] = merged2016['sqft_total_area'].fillna(merged2016['sqft_total_area'].median())\n",
    "merged2017['sqft_total_area'] = merged2017['sqft_total_area'].fillna(merged2017['sqft_total_area'].median())\n",
    "merged2016['count_full_bath'] = merged2016['count_full_bath'].fillna(merged2016['count_full_bath'].median())\n",
    "merged2017['count_full_bath'] = merged2017['count_full_bath'].fillna(merged2017['count_full_bath'].median())\n",
    "\n",
    "# Keep NaN in sqft_living_perimeter and sqft_total_lot for now\n",
    "# Very little information or values for count_3/4_bath so drop for now\n",
    "#merged2016 = merged2016.drop(['count_34_bath', 'count_total_room'], axis=1)\n",
    "#merged2017 = merged2017.drop(['count_34_bath', 'count_total_room'], axis=1)\n",
    "\n",
    "# Creating a category for the following variables: 0 = Other\n",
    "merged2016['type_building_frame'] = merged2016['type_building_frame'].fillna(0)\n",
    "merged2017['type_building_frame'] = merged2017['type_building_frame'].fillna(0)\n",
    "merged2016['type_deck'] = merged2016['type_deck'].fillna(0)\n",
    "merged2017['type_deck'] = merged2017['type_deck'].fillna(0)"
   ]
  },
  {
   "cell_type": "code",
   "execution_count": 18,
   "metadata": {
    "collapsed": true
   },
   "outputs": [],
   "source": [
    "# split data into X and y while filling nulls with 0 and dropping a few categorical variables that we may want to add in later\n",
    "x6 = merged2016.drop(['ParcelId', 'logerror', 'transactiondate', 'transaction_month', 'text_zoning', 'type_county_zoning'], axis=1).fillna(0)\n",
    "y6 = merged2016['logerror']\n",
    "x7 = merged2017.drop(['ParcelId', 'logerror', 'transactiondate', 'transaction_month', 'text_zoning', 'type_county_zoning'], axis=1).fillna(0)\n",
    "y7 = merged2017['logerror']\n",
    "\n",
    "# convert X to float\n",
    "X6 = x6.apply(pd.to_numeric)\n",
    "X7 = x7.apply(pd.to_numeric)"
   ]
  },
  {
   "cell_type": "markdown",
   "metadata": {},
   "source": [
    "Note: I had to make a last minute change to eliminate normalization due to difficulties denormalizing the data for submission."
   ]
  },
  {
   "cell_type": "code",
   "execution_count": 19,
   "metadata": {
    "collapsed": true
   },
   "outputs": [],
   "source": [
    "# Normalize features\n",
    "#scaler = StandardScaler()\n",
    "X6 = X6.fillna(0)\n",
    "#X6_s = scaler.fit_transform(X6)\n",
    "X6_s = X6\n",
    "#y6_s = scaler.fit_transform(y6.values.reshape(-1, 1))\n",
    "y6_s = y6\n",
    "\n",
    "X7 = X7.fillna(0)\n",
    "#X7_s = scaler.fit_transform(X7)\n",
    "X7_s = X7\n",
    "#y7_s = scaler.fit_transform(y7.values.reshape(-1, 1))\n",
    "y7_s = y7\n",
    "\n",
    "# Split into test / training\n",
    "X6_train, X6_test, y6_train, y6_test = train_test_split(X6_s, y6_s, test_size=0.2, random_state=7)\n",
    "X7_train, X7_test, y7_train, y7_test = train_test_split(X7_s, y7_s, test_size=0.2, random_state=7)"
   ]
  },
  {
   "cell_type": "markdown",
   "metadata": {},
   "source": [
    "## Reduce Dimensionality"
   ]
  },
  {
   "cell_type": "markdown",
   "metadata": {},
   "source": [
    "### Principle Component Analysis\n",
    "The features with the highest weights in the table should be considered the most important."
   ]
  },
  {
   "cell_type": "code",
   "execution_count": 20,
   "metadata": {
    "scrolled": true
   },
   "outputs": [
    {
     "name": "stdout",
     "output_type": "stream",
     "text": [
      "('Explained Variance: ', array([ 0.65103361,  0.22016769,  0.04862737,  0.03422263,  0.02559833]))\n"
     ]
    }
   ],
   "source": [
    "### 2016 Data\n",
    "# Extract features\n",
    "pca6 = PCA(n_components=5)\n",
    "fit6 = pca6.fit(X6_s)\n",
    "# Summarize components\n",
    "print(\"Explained Variance: \", fit6.explained_variance_ratio_)"
   ]
  },
  {
   "cell_type": "code",
   "execution_count": 21,
   "metadata": {},
   "outputs": [
    {
     "data": {
      "image/png": "[encoded data removed]",
      "text/plain": [
       "<matplotlib.figure.Figure at 0x121ba4bd0>"
      ]
     },
     "metadata": {},
     "output_type": "display_data"
    }
   ],
   "source": [
    "### 2016 Data\n",
    "# Visualize results\n",
    "pca_viz = PCA().fit(X6_s);\n",
    "\n",
    "with plt.style.context('seaborn-whitegrid'):\n",
    "    plt.semilogy(pca_viz.explained_variance_ratio_, '--o');\n",
    "    plt.semilogy(pca_viz.explained_variance_ratio_.cumsum(), '--o');\n",
    "    plt.show()"
   ]
  },
  {
   "cell_type": "code",
   "execution_count": 22,
   "metadata": {},
   "outputs": [
    {
     "data": {
      "text/html": [
       "<div>\n",
       "<style>\n",
       "    .dataframe thead tr:only-child th {\n",
       "        text-align: right;\n",
       "    }\n",
       "\n",
       "    .dataframe thead th {\n",
       "        text-align: left;\n",
       "    }\n",
       "\n",
       "    .dataframe tbody tr th {\n",
       "        vertical-align: top;\n",
       "    }\n",
       "</style>\n",
       "<table border=\"1\" class=\"dataframe\">\n",
       "  <thead>\n",
       "    <tr style=\"text-align: right;\">\n",
       "      <th></th>\n",
       "      <th>PC-1</th>\n",
       "      <th>PC-2</th>\n",
       "      <th>PC-3</th>\n",
       "      <th>PC-4</th>\n",
       "      <th>PC-5</th>\n",
       "    </tr>\n",
       "  </thead>\n",
       "  <tbody>\n",
       "    <tr>\n",
       "      <th>loc_latitude</th>\n",
       "      <td>438588.773228</td>\n",
       "      <td>-1.186672e+08</td>\n",
       "      <td>3.135419e+07</td>\n",
       "      <td>3.622526e+06</td>\n",
       "      <td>6.838767e+06</td>\n",
       "    </tr>\n",
       "    <tr>\n",
       "      <th>loc_longitude</th>\n",
       "      <td>438588.818824</td>\n",
       "      <td>-1.186672e+08</td>\n",
       "      <td>3.135419e+07</td>\n",
       "      <td>3.622526e+06</td>\n",
       "      <td>6.838767e+06</td>\n",
       "    </tr>\n",
       "    <tr>\n",
       "      <th>sqft_total_lot</th>\n",
       "      <td>438588.821642</td>\n",
       "      <td>-1.186672e+08</td>\n",
       "      <td>3.135419e+07</td>\n",
       "      <td>3.622525e+06</td>\n",
       "      <td>6.838767e+06</td>\n",
       "    </tr>\n",
       "    <tr>\n",
       "      <th>loc_city_id</th>\n",
       "      <td>438588.823966</td>\n",
       "      <td>-1.186672e+08</td>\n",
       "      <td>3.135419e+07</td>\n",
       "      <td>3.622525e+06</td>\n",
       "      <td>6.838767e+06</td>\n",
       "    </tr>\n",
       "    <tr>\n",
       "      <th>sqft_living_perimeter</th>\n",
       "      <td>438588.825360</td>\n",
       "      <td>-1.186672e+08</td>\n",
       "      <td>3.135419e+07</td>\n",
       "      <td>3.622525e+06</td>\n",
       "      <td>6.838767e+06</td>\n",
       "    </tr>\n",
       "  </tbody>\n",
       "</table>\n",
       "</div>"
      ],
      "text/plain": [
       "                                PC-1          PC-2          PC-3  \\\n",
       "loc_latitude           438588.773228 -1.186672e+08  3.135419e+07   \n",
       "loc_longitude          438588.818824 -1.186672e+08  3.135419e+07   \n",
       "sqft_total_lot         438588.821642 -1.186672e+08  3.135419e+07   \n",
       "loc_city_id            438588.823966 -1.186672e+08  3.135419e+07   \n",
       "sqft_living_perimeter  438588.825360 -1.186672e+08  3.135419e+07   \n",
       "\n",
       "                               PC-4          PC-5  \n",
       "loc_latitude           3.622526e+06  6.838767e+06  \n",
       "loc_longitude          3.622526e+06  6.838767e+06  \n",
       "sqft_total_lot         3.622525e+06  6.838767e+06  \n",
       "loc_city_id            3.622525e+06  6.838767e+06  \n",
       "sqft_living_perimeter  3.622525e+06  6.838767e+06  "
      ]
     },
     "execution_count": 22,
     "metadata": {},
     "output_type": "execute_result"
    }
   ],
   "source": [
    "### 2016 Data\n",
    "# Recover weights of variables\n",
    "ident6 = np.identity(X6_train.shape[1])\n",
    "coef6 = pd.DataFrame(pca6.transform(ident6), columns = ['PC-1', 'PC-2', 'PC-3', 'PC-4', 'PC-5'], index = X6.columns)\n",
    "\n",
    "# Print results (first five rows)\n",
    "coef6.sort_values(by = 'PC-1', ascending = True, kind = 'mergesort').head()"
   ]
  },
  {
   "cell_type": "code",
   "execution_count": 23,
   "metadata": {},
   "outputs": [
    {
     "name": "stdout",
     "output_type": "stream",
     "text": [
      "('Explained Variance: ', array([ 0.89407848,  0.09054978,  0.0060918 ,  0.00469747,  0.00250968]))\n"
     ]
    }
   ],
   "source": [
    "### 2017 Data\n",
    "# Extract features\n",
    "pca7 = PCA(n_components=5)\n",
    "fit7 = pca7.fit(X7_s)\n",
    "# Summarize components\n",
    "print(\"Explained Variance: \", fit7.explained_variance_ratio_)"
   ]
  },
  {
   "cell_type": "code",
   "execution_count": 24,
   "metadata": {},
   "outputs": [
    {
     "data": {
      "image/png": "[encoded data removed]",
      "text/plain": [
       "<matplotlib.figure.Figure at 0x121ba4150>"
      ]
     },
     "metadata": {},
     "output_type": "display_data"
    }
   ],
   "source": [
    "### 2017 Data\n",
    "# Visualize results\n",
    "pca_viz = PCA().fit(X7_s);\n",
    "\n",
    "with plt.style.context('seaborn-whitegrid'):\n",
    "    plt.semilogy(pca_viz.explained_variance_ratio_, '--o');\n",
    "    plt.semilogy(pca_viz.explained_variance_ratio_.cumsum(), '--o');\n",
    "    plt.show()"
   ]
  },
  {
   "cell_type": "code",
   "execution_count": 25,
   "metadata": {},
   "outputs": [
    {
     "data": {
      "text/html": [
       "<div>\n",
       "<style>\n",
       "    .dataframe thead tr:only-child th {\n",
       "        text-align: right;\n",
       "    }\n",
       "\n",
       "    .dataframe thead th {\n",
       "        text-align: left;\n",
       "    }\n",
       "\n",
       "    .dataframe tbody tr th {\n",
       "        vertical-align: top;\n",
       "    }\n",
       "</style>\n",
       "<table border=\"1\" class=\"dataframe\">\n",
       "  <thead>\n",
       "    <tr style=\"text-align: right;\">\n",
       "      <th></th>\n",
       "      <th>PC-1</th>\n",
       "      <th>PC-2</th>\n",
       "      <th>PC-3</th>\n",
       "      <th>PC-4</th>\n",
       "      <th>PC-5</th>\n",
       "    </tr>\n",
       "  </thead>\n",
       "  <tbody>\n",
       "    <tr>\n",
       "      <th>loc_latitude</th>\n",
       "      <td>1.229450e+08</td>\n",
       "      <td>61833.854128</td>\n",
       "      <td>568417.461877</td>\n",
       "      <td>142880.857111</td>\n",
       "      <td>94834.487483</td>\n",
       "    </tr>\n",
       "    <tr>\n",
       "      <th>value_tax_total</th>\n",
       "      <td>1.229450e+08</td>\n",
       "      <td>61834.679706</td>\n",
       "      <td>568416.710127</td>\n",
       "      <td>142880.282415</td>\n",
       "      <td>94834.390536</td>\n",
       "    </tr>\n",
       "    <tr>\n",
       "      <th>value_tax_lot</th>\n",
       "      <td>1.229450e+08</td>\n",
       "      <td>61834.471845</td>\n",
       "      <td>568416.379546</td>\n",
       "      <td>142880.999237</td>\n",
       "      <td>94834.390008</td>\n",
       "    </tr>\n",
       "    <tr>\n",
       "      <th>value_tax_building</th>\n",
       "      <td>1.229450e+08</td>\n",
       "      <td>61834.100431</td>\n",
       "      <td>568416.924813</td>\n",
       "      <td>142879.748732</td>\n",
       "      <td>94834.393042</td>\n",
       "    </tr>\n",
       "    <tr>\n",
       "      <th>loc_neighborhood_id</th>\n",
       "      <td>1.229450e+08</td>\n",
       "      <td>61833.899479</td>\n",
       "      <td>568416.499763</td>\n",
       "      <td>142880.425883</td>\n",
       "      <td>94835.386082</td>\n",
       "    </tr>\n",
       "  </tbody>\n",
       "</table>\n",
       "</div>"
      ],
      "text/plain": [
       "                             PC-1          PC-2           PC-3           PC-4  \\\n",
       "loc_latitude         1.229450e+08  61833.854128  568417.461877  142880.857111   \n",
       "value_tax_total      1.229450e+08  61834.679706  568416.710127  142880.282415   \n",
       "value_tax_lot        1.229450e+08  61834.471845  568416.379546  142880.999237   \n",
       "value_tax_building   1.229450e+08  61834.100431  568416.924813  142879.748732   \n",
       "loc_neighborhood_id  1.229450e+08  61833.899479  568416.499763  142880.425883   \n",
       "\n",
       "                             PC-5  \n",
       "loc_latitude         94834.487483  \n",
       "value_tax_total      94834.390536  \n",
       "value_tax_lot        94834.390008  \n",
       "value_tax_building   94834.393042  \n",
       "loc_neighborhood_id  94835.386082  "
      ]
     },
     "execution_count": 25,
     "metadata": {},
     "output_type": "execute_result"
    }
   ],
   "source": [
    "### 2017 Data\n",
    "# Recover weights of variables\n",
    "ident7 = np.identity(X7_train.shape[1])\n",
    "coef7 = pd.DataFrame(pca7.transform(ident7), columns = ['PC-1', 'PC-2', 'PC-3', 'PC-4', 'PC-5'], index = X7.columns)\n",
    "\n",
    "# Print results (first five rows)\n",
    "coef7.sort_values(by = 'PC-1', ascending = True, kind = 'mergesort').head()"
   ]
  },
  {
   "cell_type": "markdown",
   "metadata": {},
   "source": [
    "### Tree-Based Feature Importance\n",
    "Getting a quick tree-based feature importance classification is the final step that I am taking before I build a cross-validated model. I'm using a variation of a LightGBM model shared by another member of the Kaggle community. \n",
    "\n",
    "LightGBM is a gradient boosting framework based on decision tree algorithms that can be used for quick ranking and classification tasks. It was recently open-sourced by Microsoft as part of the DMTK project."
   ]
  },
  {
   "cell_type": "code",
   "execution_count": 26,
   "metadata": {
    "scrolled": true
   },
   "outputs": [
    {
     "data": {
      "image/png": "[encoded data removed]",
      "text/plain": [
       "<matplotlib.figure.Figure at 0x121b9c1d0>"
      ]
     },
     "metadata": {},
     "output_type": "display_data"
    }
   ],
   "source": [
    "### 2016 Data\n",
    "# Convert dataset\n",
    "d_train6 = lgb.Dataset(X6, label=y6.ravel())\n",
    "\n",
    "# Set parameters\n",
    "params = {}\n",
    "params['max_bin'] = 10\n",
    "params['learning_rate'] = 0.0021 # shrinkage_rate\n",
    "params['boosting_type'] = 'gbdt'\n",
    "params['objective'] = 'regression'\n",
    "params['metric'] = 'l1'          # or 'mae'\n",
    "params['sub_feature'] = 0.5      # feature_fraction -- OK, back to .5, but maybe later increase this\n",
    "params['bagging_fraction'] = 0.85 #\n",
    "params['bagging_freq'] = 40\n",
    "params['num_leaves'] = 512        # num_leaf\n",
    "params['min_data'] = 400         # min_data_in_leaf\n",
    "params['min_hessian'] = 0.05     # min_sum_hessian_in_leaf\n",
    "params['verbose'] = 5\n",
    "params['feature_fraction_seed'] = 2\n",
    "params['bagging_seed'] = 3\n",
    "\n",
    "# Train model\n",
    "# Train model\n",
    "clf6 = lgb.train(params, \n",
    "               d_train6,\n",
    "               500)\n",
    "\n",
    "# Plot importance\n",
    "lgb.plot_importance(clf6)\n",
    "plt.show()"
   ]
  },
  {
   "cell_type": "code",
   "execution_count": 27,
   "metadata": {},
   "outputs": [
    {
     "data": {
      "image/png": "[encoded data removed]",
      "text/plain": [
       "<matplotlib.figure.Figure at 0x126a805d0>"
      ]
     },
     "metadata": {},
     "output_type": "display_data"
    }
   ],
   "source": [
    "### 2017 Data\n",
    "# Convert dataset\n",
    "d_train7 = lgb.Dataset(X7, label=y7.ravel())\n",
    "\n",
    "# Set parameters\n",
    "params = {}\n",
    "params['max_bin'] = 10\n",
    "params['learning_rate'] = 0.0021 # shrinkage_rate\n",
    "params['boosting_type'] = 'gbdt'\n",
    "params['objective'] = 'regression'\n",
    "params['metric'] = 'l1'          # or 'mae'\n",
    "params['sub_feature'] = 0.5      # feature_fraction -- OK, back to .5, but maybe later increase this\n",
    "params['bagging_fraction'] = 0.85 #\n",
    "params['bagging_freq'] = 40\n",
    "params['num_leaves'] = 512        # num_leaf\n",
    "params['min_data'] = 400         # min_data_in_leaf\n",
    "params['min_hessian'] = 0.05     # min_sum_hessian_in_leaf\n",
    "params['verbose'] = 5\n",
    "params['feature_fraction_seed'] = 2\n",
    "params['bagging_seed'] = 3\n",
    "\n",
    "# Train model\n",
    "# Train model\n",
    "clf7 = lgb.train(params, \n",
    "               d_train7,\n",
    "               500)\n",
    "\n",
    "# Plot importance\n",
    "lgb.plot_importance(clf7)\n",
    "plt.show()"
   ]
  },
  {
   "cell_type": "markdown",
   "metadata": {},
   "source": [
    "## Cross-Validated Model"
   ]
  },
  {
   "cell_type": "markdown",
   "metadata": {},
   "source": [
    "### K-Fold Cross-Validation of XGBoost\n",
    "XGBoost appears to be the model of choice for this project from my research."
   ]
  },
  {
   "cell_type": "code",
   "execution_count": 28,
   "metadata": {},
   "outputs": [
    {
     "name": "stdout",
     "output_type": "stream",
     "text": [
      "[0]\ttrain-mae:0.487174\tvalid-mae:0.487738\n",
      "Multiple eval metrics have been passed: 'valid-mae' will be used for early stopping.\n",
      "\n",
      "Will train until valid-mae hasn't improved in 100 rounds.\n",
      "Stopping. Best iteration:\n",
      "[347]\ttrain-mae:0.06735\tvalid-mae:0.068695\n",
      "\n"
     ]
    }
   ],
   "source": [
    "### 2016 Data\n",
    "# Define datasets\n",
    "d6_train = xgb.DMatrix(X6_train, label=y6_train)\n",
    "d6_test = xgb.DMatrix(X6_test, label=y6_test)\n",
    "\n",
    "# Define learning parameters\n",
    "params = {}\n",
    "params['eta'] = 0.02\n",
    "params['objective'] = 'reg:linear'\n",
    "params['eval_metric'] = 'mae'\n",
    "params['max_depth'] = 4\n",
    "params['silent'] = 1\n",
    "\n",
    "# Run algo\n",
    "watchlist6 = [(d6_train, 'train'), (d6_test, 'valid')]\n",
    "clf_xgb6 = xgb.train(params, \n",
    "                    d6_train, \n",
    "                    10000, \n",
    "                    watchlist6, # computes both in-sample and out-of-sample errors\n",
    "                    early_stopping_rounds=100, # quit training after accuracy metric hasn't improved in x rounds\n",
    "                    verbose_eval=500)\n",
    "\n",
    "# Make predictions\n",
    "xgboost_pred6 = clf_xgb6.predict(d6_test)"
   ]
  },
  {
   "cell_type": "code",
   "execution_count": 29,
   "metadata": {},
   "outputs": [
    {
     "name": "stdout",
     "output_type": "stream",
     "text": [
      "[0]\ttrain-mae:0.485226\tvalid-mae:0.486297\n",
      "Multiple eval metrics have been passed: 'valid-mae' will be used for early stopping.\n",
      "\n",
      "Will train until valid-mae hasn't improved in 100 rounds.\n",
      "Stopping. Best iteration:\n",
      "[376]\ttrain-mae:0.069462\tvalid-mae:0.071133\n",
      "\n"
     ]
    }
   ],
   "source": [
    "### 2017 Data\n",
    "# Define datasets\n",
    "d7_train = xgb.DMatrix(X7_train, label=y7_train)\n",
    "d7_test = xgb.DMatrix(X7_test, label=y7_test)\n",
    "\n",
    "# Define learning parameters\n",
    "params = {}\n",
    "params['eta'] = 0.02\n",
    "params['objective'] = 'reg:linear'\n",
    "params['eval_metric'] = 'mae'\n",
    "params['max_depth'] = 4\n",
    "params['silent'] = 1\n",
    "\n",
    "# Run algo\n",
    "watchlist7 = [(d7_train, 'train'), (d7_test, 'valid')]\n",
    "clf_xgb7 = xgb.train(params, \n",
    "                    d7_train, \n",
    "                    10000, \n",
    "                    watchlist7, # computes both in-sample and out-of-sample errors\n",
    "                    early_stopping_rounds=100, # quit training after accuracy metric hasn't improved in x rounds\n",
    "                    verbose_eval=500)\n",
    "\n",
    "# Make predictions\n",
    "xgboost_pred7 = clf_xgb7.predict(d7_test)"
   ]
  },
  {
   "cell_type": "code",
   "execution_count": 30,
   "metadata": {},
   "outputs": [
    {
     "name": "stdout",
     "output_type": "stream",
     "text": [
      "[ 0.02311331  0.01596597  0.00856775 ...,  0.00737023  0.01677984\n",
      "  0.00635612]\n"
     ]
    }
   ],
   "source": [
    "print xgboost_pred7"
   ]
  },
  {
   "cell_type": "code",
   "execution_count": null,
   "metadata": {
    "collapsed": true
   },
   "outputs": [],
   "source": [
    "Note: I ran into a late problem with creation of my submission file. I couldn't get this solved before class today but I hope to fix the issue and get a submission into the competition before the deadl "
   ]
  },
  {
   "cell_type": "code",
   "execution_count": 36,
   "metadata": {},
   "outputs": [
    {
     "ename": "AttributeError",
     "evalue": "'DataFrame' object has no attribute 'feature_names'",
     "output_type": "error",
     "traceback": [
      "\u001b[0;31m---------------------------------------------------------------------------\u001b[0m",
      "\u001b[0;31mAttributeError\u001b[0m                            Traceback (most recent call last)",
      "\u001b[0;32m<ipython-input-36-868309118574>\u001b[0m in \u001b[0;36m<module>\u001b[0;34m()\u001b[0m\n\u001b[1;32m      6\u001b[0m \u001b[0mmerge2016\u001b[0m \u001b[0;34m=\u001b[0m \u001b[0mmerge2016\u001b[0m\u001b[0;34m.\u001b[0m\u001b[0mfillna\u001b[0m\u001b[0;34m(\u001b[0m\u001b[0;36m0\u001b[0m\u001b[0;34m)\u001b[0m\u001b[0;34m\u001b[0m\u001b[0m\n\u001b[1;32m      7\u001b[0m \u001b[0;34m\u001b[0m\u001b[0m\n\u001b[0;32m----> 8\u001b[0;31m \u001b[0mFinal2016_predictions\u001b[0m \u001b[0;34m=\u001b[0m \u001b[0mclf_xgb6\u001b[0m\u001b[0;34m.\u001b[0m\u001b[0mpredict\u001b[0m\u001b[0;34m(\u001b[0m\u001b[0mmerge2016\u001b[0m\u001b[0;34m)\u001b[0m\u001b[0;34m\u001b[0m\u001b[0m\n\u001b[0m\u001b[1;32m      9\u001b[0m \u001b[0mFinal2017_predictions\u001b[0m \u001b[0;34m=\u001b[0m \u001b[0mclf_xgb7\u001b[0m\u001b[0;34m.\u001b[0m\u001b[0mpredict\u001b[0m\u001b[0;34m(\u001b[0m\u001b[0mmerge2017\u001b[0m\u001b[0;34m)\u001b[0m\u001b[0;34m\u001b[0m\u001b[0m\n",
      "\u001b[0;32m/anaconda/lib/python2.7/site-packages/xgboost/core.pyc\u001b[0m in \u001b[0;36mpredict\u001b[0;34m(self, data, output_margin, ntree_limit, pred_leaf)\u001b[0m\n\u001b[1;32m    937\u001b[0m             \u001b[0moption_mask\u001b[0m \u001b[0;34m|=\u001b[0m \u001b[0;36m0x02\u001b[0m\u001b[0;34m\u001b[0m\u001b[0m\n\u001b[1;32m    938\u001b[0m \u001b[0;34m\u001b[0m\u001b[0m\n\u001b[0;32m--> 939\u001b[0;31m         \u001b[0mself\u001b[0m\u001b[0;34m.\u001b[0m\u001b[0m_validate_features\u001b[0m\u001b[0;34m(\u001b[0m\u001b[0mdata\u001b[0m\u001b[0;34m)\u001b[0m\u001b[0;34m\u001b[0m\u001b[0m\n\u001b[0m\u001b[1;32m    940\u001b[0m \u001b[0;34m\u001b[0m\u001b[0m\n\u001b[1;32m    941\u001b[0m         \u001b[0mlength\u001b[0m \u001b[0;34m=\u001b[0m \u001b[0mctypes\u001b[0m\u001b[0;34m.\u001b[0m\u001b[0mc_ulong\u001b[0m\u001b[0;34m(\u001b[0m\u001b[0;34m)\u001b[0m\u001b[0;34m\u001b[0m\u001b[0m\n",
      "\u001b[0;32m/anaconda/lib/python2.7/site-packages/xgboost/core.pyc\u001b[0m in \u001b[0;36m_validate_features\u001b[0;34m(self, data)\u001b[0m\n\u001b[1;32m   1162\u001b[0m         \u001b[0;32melse\u001b[0m\u001b[0;34m:\u001b[0m\u001b[0;34m\u001b[0m\u001b[0m\n\u001b[1;32m   1163\u001b[0m             \u001b[0;31m# Booster can't accept data with different feature names\u001b[0m\u001b[0;34m\u001b[0m\u001b[0;34m\u001b[0m\u001b[0m\n\u001b[0;32m-> 1164\u001b[0;31m             \u001b[0;32mif\u001b[0m \u001b[0mself\u001b[0m\u001b[0;34m.\u001b[0m\u001b[0mfeature_names\u001b[0m \u001b[0;34m!=\u001b[0m \u001b[0mdata\u001b[0m\u001b[0;34m.\u001b[0m\u001b[0mfeature_names\u001b[0m\u001b[0;34m:\u001b[0m\u001b[0;34m\u001b[0m\u001b[0m\n\u001b[0m\u001b[1;32m   1165\u001b[0m                 \u001b[0mdat_missing\u001b[0m \u001b[0;34m=\u001b[0m \u001b[0mset\u001b[0m\u001b[0;34m(\u001b[0m\u001b[0mself\u001b[0m\u001b[0;34m.\u001b[0m\u001b[0mfeature_names\u001b[0m\u001b[0;34m)\u001b[0m \u001b[0;34m-\u001b[0m \u001b[0mset\u001b[0m\u001b[0;34m(\u001b[0m\u001b[0mdata\u001b[0m\u001b[0;34m.\u001b[0m\u001b[0mfeature_names\u001b[0m\u001b[0;34m)\u001b[0m\u001b[0;34m\u001b[0m\u001b[0m\n\u001b[1;32m   1166\u001b[0m                 \u001b[0mmy_missing\u001b[0m \u001b[0;34m=\u001b[0m \u001b[0mset\u001b[0m\u001b[0;34m(\u001b[0m\u001b[0mdata\u001b[0m\u001b[0;34m.\u001b[0m\u001b[0mfeature_names\u001b[0m\u001b[0;34m)\u001b[0m \u001b[0;34m-\u001b[0m \u001b[0mset\u001b[0m\u001b[0;34m(\u001b[0m\u001b[0mself\u001b[0m\u001b[0;34m.\u001b[0m\u001b[0mfeature_names\u001b[0m\u001b[0;34m)\u001b[0m\u001b[0;34m\u001b[0m\u001b[0m\n",
      "\u001b[0;32m/anaconda/lib/python2.7/site-packages/pandas/core/generic.pyc\u001b[0m in \u001b[0;36m__getattr__\u001b[0;34m(self, name)\u001b[0m\n\u001b[1;32m   2968\u001b[0m             \u001b[0;32mif\u001b[0m \u001b[0mname\u001b[0m \u001b[0;32min\u001b[0m \u001b[0mself\u001b[0m\u001b[0;34m.\u001b[0m\u001b[0m_info_axis\u001b[0m\u001b[0;34m:\u001b[0m\u001b[0;34m\u001b[0m\u001b[0m\n\u001b[1;32m   2969\u001b[0m                 \u001b[0;32mreturn\u001b[0m \u001b[0mself\u001b[0m\u001b[0;34m[\u001b[0m\u001b[0mname\u001b[0m\u001b[0;34m]\u001b[0m\u001b[0;34m\u001b[0m\u001b[0m\n\u001b[0;32m-> 2970\u001b[0;31m             \u001b[0;32mreturn\u001b[0m \u001b[0mobject\u001b[0m\u001b[0;34m.\u001b[0m\u001b[0m__getattribute__\u001b[0m\u001b[0;34m(\u001b[0m\u001b[0mself\u001b[0m\u001b[0;34m,\u001b[0m \u001b[0mname\u001b[0m\u001b[0;34m)\u001b[0m\u001b[0;34m\u001b[0m\u001b[0m\n\u001b[0m\u001b[1;32m   2971\u001b[0m \u001b[0;34m\u001b[0m\u001b[0m\n\u001b[1;32m   2972\u001b[0m     \u001b[0;32mdef\u001b[0m \u001b[0m__setattr__\u001b[0m\u001b[0;34m(\u001b[0m\u001b[0mself\u001b[0m\u001b[0;34m,\u001b[0m \u001b[0mname\u001b[0m\u001b[0;34m,\u001b[0m \u001b[0mvalue\u001b[0m\u001b[0;34m)\u001b[0m\u001b[0;34m:\u001b[0m\u001b[0;34m\u001b[0m\u001b[0m\n",
      "\u001b[0;31mAttributeError\u001b[0m: 'DataFrame' object has no attribute 'feature_names'"
     ]
    }
   ],
   "source": [
    "# Prepare the submission data\n",
    "merge2017 = pd.merge(sample, prop2017, on='ParcelId', how='left')\n",
    "merge2017 = merge2017.fillna(0)\n",
    "\n",
    "merge2016 = pd.merge(sample, prop2016, on='ParcelId', how='left')\n",
    "merge2016 = merge2016.fillna(0)\n",
    "\n",
    "Final2016_predictions = clf_xgb6.predict(merge2016)\n",
    "Final2017_predictions = clf_xgb7.predict(merge2017)"
   ]
  },
  {
   "cell_type": "code",
   "execution_count": null,
   "metadata": {
    "collapsed": true
   },
   "outputs": [],
   "source": [
    "submission_file = pd.read_csv('sample_submission.csv') \n",
    "for column in submission_file.columns[submission_file.columns == 201610]:\n",
    "    submission_file[column] = Final2016_predictions\n",
    "for column in submission_file.columns[submission_file.columns == 201611]:\n",
    "    submission_file[column] = Final2016_predictions\n",
    "for column in submission_file.columns[submission_file.columns == 201612]:\n",
    "    submission_file[column] = Final2016_predictions\n",
    "for column in submission_file.columns[submission_file.columns == 201710]:\n",
    "    submission_file[column] = Final2017_predictions\n",
    "for column in submission_file.columns[submission_file.columns == 201711]:\n",
    "    submission_file[column] = Final2017_predictions\n",
    "for column in submission_file.columns[submission_file.columns == 201712]:\n",
    "    submission_file[column] = Final2017_predictions"
   ]
  },
  {
   "cell_type": "code",
   "execution_count": null,
   "metadata": {
    "collapsed": true
   },
   "outputs": [],
   "source": [
    "submission_file.to_csv('RF_final_predictions.csv', index=False, float_format='%.4f')"
   ]
  },
  {
   "cell_type": "code",
   "execution_count": null,
   "metadata": {
    "collapsed": true
   },
   "outputs": [],
   "source": []
  }
 ],
 "metadata": {
  "kernelspec": {
   "display_name": "Python 2",
   "language": "python",
   "name": "python2"
  },
  "language_info": {
   "codemirror_mode": {
    "name": "ipython",
    "version": 2
   },
   "file_extension": ".py",
   "mimetype": "text/x-python",
   "name": "python",
   "nbconvert_exporter": "python",
   "pygments_lexer": "ipython2",
   "version": "2.7.13"
  }
 },
 "nbformat": 4,
 "nbformat_minor": 2
}

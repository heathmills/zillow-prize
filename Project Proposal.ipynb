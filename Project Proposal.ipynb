{
 "cells": [
  {
   "cell_type": "markdown",
   "metadata": {},
   "source": [
    "# DS5K 2017 Final Project - Proposal\n",
    "### Heath Mills"
   ]
  },
  {
   "cell_type": "markdown",
   "metadata": {},
   "source": [
    "## Improving House Price Forecasting\n",
    "#### Data Sets: [Zillow Prize Kaggle Competition](https://www.kaggle.com/c/zillow-prize-1)\n",
    "\n",
    "In the United States, prospective first-time homebuyers are embarking on one of the largest financial decisions of their lives. As stated on the Zillow Prize homepage:\n",
    "\n",
    ">A home is often the largest and most expensive purchase a person makes in his or her lifetime. Ensuring homeowners have a trusted way to monitor this asset is incredibly important. \n",
    "\n",
    "Zillow created the Zestimate in 2006 and has become one of the primary tools for prospective homeowners to browse and shop the market in their area. The Zestimate uses statistical and machine learning models that analyze hundreds of data points on every property in the country to develop an estimated home value for every house in the nation. The Zestimate was the first type of home value information at no cost.\n",
    "\n",
    "As a newly married man, I am looking at becoming a homeowner over the next 6-12 months so the opportunity to learn more about the housing market was too good to pass up. I am using this project to create my entry in the 1st Round of the Kaggle competition.\n",
    "\n",
    "In the first round of the competition, Zillow is asking entrants to **predict the mean absolute error (MAE) of the provided Zestimate for homes sold in three California counties (LA, Orange, and Ventura) during the evaluation period (October 17, 2017 – December 15, 2017).**"
   ]
  },
  {
   "cell_type": "markdown",
   "metadata": {},
   "source": [
    "### Data Files & Descriptions\n",
    "- **properties_2016.csv** - all the properties with their home features for 2016. Note: Some 2017 new properties don't have any data yet except for their parcelid's. Those data points should be populated when properties_2017.csv is available.\n",
    "- **properties_2017.csv** - all the properties with their home features for 2017 (released on 10/2/2017)\n",
    "- **train_2016.csv** - the training set with transactions from 1/1/2016 to 12/31/2016\n",
    "- **train_2017.csv** - the training set with transactions from 1/1/2017 to 9/15/2017 (released on 10/2/2017)\n",
    "- **sample_submission.csv** - a sample submission file in the correct format\n",
    "\n",
    "_ Since Zillow has restricted the use of outside data in the competition, no additional information will be used _"
   ]
  },
  {
   "cell_type": "markdown",
   "metadata": {},
   "source": [
    "### Hypothesis\n",
    "Home prices will correlate more with square footage of the home and lot more than the other 51 metrics provided in the Zillow data sets."
   ]
  },
  {
   "cell_type": "markdown",
   "metadata": {},
   "source": [
    "### Assumptions\n",
    "In order to compete in the Zillow Prize competition, I am required to make the following assumptions:\n",
    "1. Any information gleaned from the housing data for LA, Orange & Venura counties in California are representative of the overall U.S. housing market\n",
    "2. The training sets provided from 2016 and 2017 contain a large enough sample size\n",
    "3. The data provided by Zillow contains all of the statistics that were used by Zillow to predict calculate the version of the Zestimate that will be used for scoring the first round of the competition."
   ]
  },
  {
   "cell_type": "markdown",
   "metadata": {},
   "source": [
    "### Goal\n",
    "My goal for this project is to use different techniques learned in this class to sufficiently narrow down the variables to a group of three to five groups that I can then enter into a neural network to develop my set of predictions for submission."
   ]
  },
  {
   "cell_type": "markdown",
   "metadata": {},
   "source": [
    "### Limitations\n",
    "1. I have less knowledge of working with time-based sets so I will not be able to vary my predictions from month to month.\n",
    "2. The 2017 data was not released until 10/2/17 and I am presenting this on project on 10/5/17 so my time was extremely limited.\n",
    "3. The course only covered neural networks briefly in the final two lectures, so I utilize outside sources for more information in developing my final predictions."
   ]
  }
 ],
 "metadata": {
  "kernelspec": {
   "display_name": "Python 2",
   "language": "python",
   "name": "python2"
  },
  "language_info": {
   "codemirror_mode": {
    "name": "ipython",
    "version": 2
   },
   "file_extension": ".py",
   "mimetype": "text/x-python",
   "name": "python",
   "nbconvert_exporter": "python",
   "pygments_lexer": "ipython2",
   "version": "2.7.13"
  }
 },
 "nbformat": 4,
 "nbformat_minor": 2
}
